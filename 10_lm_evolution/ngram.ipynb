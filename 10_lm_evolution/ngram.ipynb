{
 "cells": [
  {
   "cell_type": "markdown",
   "id": "cdaa4a7c-4c2d-456e-8777-75117fe16427",
   "metadata": {
    "scrolled": true
   },
   "source": [
    "## 1. 环境准备模块"
   ]
  },
  {
   "cell_type": "code",
   "execution_count": 4,
   "id": "455d164f-cb13-4915-b152-b78c65615ff5",
   "metadata": {},
   "outputs": [],
   "source": [
    "# %% [markdown]\n",
    "# # N-gram 语言模型实验\n",
    "# 本笔记本演示经典的N-gram语言模型实现\n",
    "\n",
    "# %% [markdown]\n",
    "# ## 1. 导入依赖\n",
    "# %%\n",
    "import matplotlib.pyplot as plt\n",
    "from collections import defaultdict\n",
    "%matplotlib inline"
   ]
  },
  {
   "cell_type": "markdown",
   "id": "958353f7-6129-48f7-9387-7e42ecae09a8",
   "metadata": {},
   "source": [
    "功能说明：\n",
    "\n",
    "使用 defaultdict 实现自动创建嵌套字典，用于存储n-gram计数\n",
    "\n",
    "%matplotlib inline 是Jupyter魔法命令，用于内嵌显示图表\n",
    "\n",
    "可视化库 matplotlib 用于展示统计结果\n"
   ]
  },
  {
   "cell_type": "markdown",
   "id": "c814f474-1aee-4050-859c-ea2333b8e7cc",
   "metadata": {},
   "source": [
    "## 2.模型核心类"
   ]
  },
  {
   "cell_type": "code",
   "execution_count": 5,
   "id": "f3c3c970-36d6-40b7-8a41-de90a8b13d2c",
   "metadata": {},
   "outputs": [],
   "source": [
    "# %% [markdown]\n",
    "# ## 2. 模型实现\n",
    "# %%\n",
    "class NGramModel:\n",
    "    def __init__(self, n=3):\n",
    "        self.n = n\n",
    "        self.ngrams = defaultdict(lambda: defaultdict(int))\n",
    "        self.vocab = set()\n",
    "    \n",
    "    def train(self, text):\n",
    "        tokens = text.split()\n",
    "        self.vocab.update(tokens)\n",
    "        \n",
    "        # 生成n-gram统计\n",
    "        for i in range(len(tokens) - self.n + 1):\n",
    "            context = tuple(tokens[i:i+self.n-1])  # 前n-1个词作为上下文\n",
    "            word = tokens[i+self.n-1]              # 第n个词作为预测目标\n",
    "            self.ngrams[context][word] += 1\n",
    "    \n",
    "    def predict(self, context, top_k=1):\n",
    "        context = tuple(context.split())\n",
    "        if context not in self.ngrams:\n",
    "            return f\"没有找到'{' '.join(context)}'的统计信息\"\n",
    "            \n",
    "        candidates = sorted(\n",
    "            self.ngrams[context].items(),\n",
    "            key=lambda x: x[1],\n",
    "            reverse=True\n",
    "        )\n",
    "        return [word for word, count in candidates[:top_k]]"
   ]
  },
  {
   "cell_type": "markdown",
   "id": "f545e934-1ce9-4dd3-ac7d-0004bbaf389d",
   "metadata": {},
   "source": [
    "关键实现解析：\n",
    "\n",
    "初始化方法：\n",
    "\n",
    "n=3 表示默认使用三元模型（实际是2个词上下文预测下一个词）\n",
    "\n",
    "ngrams 使用双重默认字典存储计数：{context: {word: count}}\n",
    "\n",
    "vocab 记录所有出现过的词汇\n",
    "\n",
    "训练方法：\n",
    "\n",
    "将输入文本分割为词列表\n",
    "\n",
    "滑动窗口生成n-gram模式\n",
    "\n",
    "使用元组作为字典键（因为列表不可哈希）\n",
    "\n",
    "预测方法：\n",
    "\n",
    "处理未知上下文时返回友好提示\n",
    "\n",
    "使用 sorted 进行频率排序\n",
    "\n",
    "top_k 参数支持返回多个候选预测\n",
    "\n",
    " "
   ]
  },
  {
   "cell_type": "markdown",
   "id": "d1382084-c0db-40a6-abbe-96b2f5de77b4",
   "metadata": {},
   "source": [
    "## 3.模型训练"
   ]
  },
  {
   "cell_type": "code",
   "execution_count": 13,
   "id": "fcab7800-f123-4c95-bb44-deeeb75165b1",
   "metadata": {},
   "outputs": [],
   "source": [
    "# %% [markdown]\n",
    "# ## 3. 训练模型\n",
    "# %%\n",
    "# 示例训练数据\n",
    "training_text = \"\"\"\n",
    "the cat sat on the mat \n",
    "the cat ate the fish \n",
    "the dog chased the cat\n",
    "the dog hate the cat\n",
    "I love the cat and the dog\n",
    "\"\"\"\n",
    "\n",
    "model = NGramModel(n=3)\n",
    "model.train(training_text.strip())"
   ]
  },
  {
   "cell_type": "markdown",
   "id": "4d1d4c5f-ce2d-4010-af08-90284f19bd74",
   "metadata": {},
   "source": [
    "## 4.验证测试"
   ]
  },
  {
   "cell_type": "code",
   "execution_count": 14,
   "id": "8e7c62be-5854-4132-b39f-1c359b88d815",
   "metadata": {},
   "outputs": [
    {
     "name": "stdout",
     "output_type": "stream",
     "text": [
      "输入上下文: 'the cat'\n",
      "预测结果: ['sat']\n",
      "输入未知上下文: 'the elephant'\n",
      "预测结果: 没有找到'the elephant'的统计信息\n",
      "输入单字上下文: 'the'\n",
      "前3个预测结果: 没有找到'the'的统计信息\n"
     ]
    }
   ],
   "source": [
    "# %% [markdown]\n",
    "# ## 4. 模型验证\n",
    "# %% [markdown]\n",
    "# ### 测试用例1：已知上下文\n",
    "# %%\n",
    "test_context = \"the cat\"\n",
    "print(f\"输入上下文: '{test_context}'\")\n",
    "print(\"预测结果:\", model.predict(test_context))\n",
    "\n",
    "# %% [markdown]\n",
    "# ### 测试用例2：未知上下文\n",
    "# %%\n",
    "unknown_context = \"the elephant\"\n",
    "print(f\"输入未知上下文: '{unknown_context}'\")\n",
    "print(\"预测结果:\", model.predict(unknown_context))\n",
    "\n",
    "# %% [markdown]\n",
    "# ### 测试用例3：多候选预测\n",
    "# %%\n",
    "multi_context = \"the\"\n",
    "print(f\"输入单字上下文: '{multi_context}'\")\n",
    "print(\"前3个预测结果:\", model.predict(multi_context, top_k=3))"
   ]
  },
  {
   "cell_type": "markdown",
   "id": "e62c0796-f763-4212-a476-db1887f9e1c7",
   "metadata": {},
   "source": [
    "## 5. 可视化展示"
   ]
  },
  {
   "cell_type": "code",
   "execution_count": 15,
   "id": "048aaa9e-f7a7-4443-a5b2-691704d3f547",
   "metadata": {},
   "outputs": [
    {
     "data": {
      "image/png": "[encoded data removed]",
      "text/plain": [
       "<Figure size 1000x600 with 1 Axes>"
      ]
     },
     "metadata": {},
     "output_type": "display_data"
    }
   ],
   "source": [
    "# %% [markdown]\n",
    "# ## 5. 可视化分析\n",
    "# %%\n",
    "# 提取前5个最常见的上下文\n",
    "top_contexts = sorted(\n",
    "    model.ngrams.items(),\n",
    "    key=lambda x: sum(x[1].values()),\n",
    "    reverse=True\n",
    ")[:5]\n",
    "\n",
    "# 绘制条形图\n",
    "plt.figure(figsize=(10,6))\n",
    "bars = plt.barh(\n",
    "    [f\"Context: {' '.join(ctx)}\" for ctx, _ in top_contexts],\n",
    "    [sum(counts.values()) for _, counts in top_contexts],\n",
    "    color='skyblue'\n",
    ")\n",
    "\n",
    "# 添加数据标签\n",
    "for bar in bars:\n",
    "    width = bar.get_width()\n",
    "    plt.text(width+0.3, bar.get_y()+0.3, str(int(width)), ha='center')\n",
    "\n",
    "plt.xlabel('Frequency')\n",
    "plt.title('Top 5 N-gram Context Frequencies')\n",
    "plt.gca().invert_yaxis()  # 频率从高到低显示\n",
    "plt.show()"
   ]
  },
  {
   "cell_type": "code",
   "execution_count": null,
   "id": "bc0266e4-15a0-4a30-ad8c-b99ea0934d70",
   "metadata": {},
   "outputs": [],
   "source": []
  }
 ],
 "metadata": {
  "kernelspec": {
   "display_name": "Python 3 (ipykernel)",
   "language": "python",
   "name": "python3"
  },
  "language_info": {
   "codemirror_mode": {
    "name": "ipython",
    "version": 3
   },
   "file_extension": ".py",
   "mimetype": "text/x-python",
   "name": "python",
   "nbconvert_exporter": "python",
   "pygments_lexer": "ipython3",
   "version": "3.9.21"
  }
 },
 "nbformat": 4,
 "nbformat_minor": 5
}
