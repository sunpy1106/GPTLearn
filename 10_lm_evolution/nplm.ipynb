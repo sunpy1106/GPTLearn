{
 "cells": [
  {
   "cell_type": "markdown",
   "id": "c32a091b-941e-46ec-a8a0-6bc17ae183df",
   "metadata": {},
   "source": [
    "## 1. 导入依赖"
   ]
  },
  {
   "cell_type": "code",
   "execution_count": 1,
   "id": "c4de446b-4723-4936-808e-11a1300747e0",
   "metadata": {},
   "outputs": [],
   "source": [
    "import torch\n",
    "import torch.nn as nn\n",
    "import torch.optim as optim\n",
    "import matplotlib.pyplot as plt\n",
    "from sklearn.decomposition import PCA\n",
    "from collections import Counter\n",
    "import numpy as np\n",
    "%matplotlib inline"
   ]
  },
  {
   "cell_type": "markdown",
   "id": "513f4c3e-4ccc-4d06-8082-696c1867d420",
   "metadata": {},
   "source": [
    "## 2. 模型架构定义"
   ]
  },
  {
   "cell_type": "code",
   "execution_count": 2,
   "id": "cadedb24-5058-4a6d-988e-16ea32014799",
   "metadata": {},
   "outputs": [],
   "source": [
    "class NPLM(nn.Module):\n",
    "    def __init__(self, vocab_size=1000, emb_dim=64, context_size=3, hidden_dim=128):\n",
    "        \"\"\"\n",
    "        参数说明：\n",
    "        vocab_size: 词汇表大小 \n",
    "        emb_dim: 词嵌入维度\n",
    "        context_size: 上下文词数 (n-1)\n",
    "        hidden_dim: 隐藏层维度\n",
    "        \"\"\"\n",
    "        super().__init__()\n",
    "        \n",
    "        # 嵌入层：将离散词索引映射为连续向量\n",
    "        self.embeddings = nn.Embedding(vocab_size, emb_dim)\n",
    "        \n",
    "        # 全连接层1：上下文向量拼接后投影\n",
    "        self.fc1 = nn.Linear(context_size * emb_dim, hidden_dim)\n",
    "        \n",
    "        # 非线性激活\n",
    "        self.relu = nn.ReLU()\n",
    "        \n",
    "        # 输出层：预测下一个词的概率分布\n",
    "        self.fc2 = nn.Linear(hidden_dim, vocab_size)\n",
    "        \n",
    "        # 初始化权重\n",
    "        nn.init.xavier_uniform_(self.embeddings.weight)\n",
    "        nn.init.kaiming_normal_(self.fc1.weight)\n",
    "        nn.init.normal_(self.fc2.weight, mean=0, std=0.1)\n",
    "\n",
    "    def forward(self, x):\n",
    "        \"\"\"\n",
    "        前向传播流程：\n",
    "        x: 输入词索引序列 [batch_size, context_size]\n",
    "        \"\"\"\n",
    "        # 嵌入层：[batch, context] => [batch, context*emb_dim]\n",
    "        embeds = self.embeddings(x).view(x.size(0), -1)\n",
    "        \n",
    "        # 全连接 + 激活\n",
    "        hidden = self.relu(self.fc1(embeds))\n",
    "        \n",
    "        # 输出层\n",
    "        logits = self.fc2(hidden)\n",
    "        return logits"
   ]
  },
  {
   "cell_type": "markdown",
   "id": "58f4f9f6-e75b-43c4-8b2e-6d8d08e7a80f",
   "metadata": {},
   "source": [
    "## 3. 数据预处理"
   ]
  },
  {
   "cell_type": "code",
   "execution_count": 10,
   "id": "c6868fb8-cdeb-4a1d-89a2-98328f10d3c4",
   "metadata": {},
   "outputs": [
    {
     "name": "stdout",
     "output_type": "stream",
     "text": [
      "生成 13 个训练样本\n",
      "样本1:\n",
      "  上下文索引: [0, 1, 2]\n",
      "  目标索引: 3\n",
      "  对应文本: ['the', 'cat', 'sat'] -> on\n",
      "样本2:\n",
      "  上下文索引: [1, 2, 3]\n",
      "  目标索引: 0\n",
      "  对应文本: ['cat', 'sat', 'on'] -> the\n",
      "样本3:\n",
      "  上下文索引: [2, 3, 0]\n",
      "  目标索引: 4\n",
      "  对应文本: ['sat', 'on', 'the'] -> mat\n",
      "样本4:\n",
      "  上下文索引: [3, 0, 4]\n",
      "  目标索引: 0\n",
      "  对应文本: ['on', 'the', 'mat'] -> the\n",
      "样本5:\n",
      "  上下文索引: [0, 4, 0]\n",
      "  目标索引: 5\n",
      "  对应文本: ['the', 'mat', 'the'] -> dog\n",
      "样本6:\n",
      "  上下文索引: [4, 0, 5]\n",
      "  目标索引: 6\n",
      "  对应文本: ['mat', 'the', 'dog'] -> chased\n",
      "样本7:\n",
      "  上下文索引: [0, 5, 6]\n",
      "  目标索引: 0\n",
      "  对应文本: ['the', 'dog', 'chased'] -> the\n",
      "样本8:\n",
      "  上下文索引: [5, 6, 0]\n",
      "  目标索引: 1\n",
      "  对应文本: ['dog', 'chased', 'the'] -> cat\n",
      "样本9:\n",
      "  上下文索引: [6, 0, 1]\n",
      "  目标索引: 7\n",
      "  对应文本: ['chased', 'the', 'cat'] -> cats\n",
      "样本10:\n",
      "  上下文索引: [0, 1, 7]\n",
      "  目标索引: 8\n",
      "  对应文本: ['the', 'cat', 'cats'] -> like\n",
      "样本11:\n",
      "  上下文索引: [1, 7, 8]\n",
      "  目标索引: 9\n",
      "  对应文本: ['cat', 'cats', 'like'] -> fish\n",
      "样本12:\n",
      "  上下文索引: [7, 8, 9]\n",
      "  目标索引: 10\n",
      "  对应文本: ['cats', 'like', 'fish'] -> and\n",
      "样本13:\n",
      "  上下文索引: [8, 9, 10]\n",
      "  目标索引: 11\n",
      "  对应文本: ['like', 'fish', 'and'] -> milk\n"
     ]
    }
   ],
   "source": [
    "text = \"\"\"\n",
    "the cat sat on the mat \n",
    "the dog chased the cat \n",
    "cats like fish and milk\n",
    "\"\"\"\n",
    "\n",
    "# 构建词汇表\n",
    "words = text.strip().split()\n",
    "vocab = Counter(words)\n",
    "vocab_size = len(vocab)\n",
    "\n",
    "# 创建词到索引的映射\n",
    "word_to_idx = {word: i for i, word in enumerate(vocab)}\n",
    "idx_to_word = {i: word for word, i in word_to_idx.items()}\n",
    "\n",
    "# 超参数设置\n",
    "CONTEXT_SIZE = 3  # 使用3个词预测下一个词\n",
    "EMB_DIM = 32\n",
    "HIDDEN_DIM = 64\n",
    "\n",
    "# 生成训练数据\n",
    "def make_dataset(words, context_size):\n",
    "    data = []\n",
    "    for i in range(context_size, len(words)):\n",
    "        context = words[i-context_size:i]\n",
    "        target = words[i]\n",
    "        data.append((\n",
    "            torch.tensor([word_to_idx[w] for w in context], dtype=torch.long),\n",
    "            torch.tensor(word_to_idx[target], dtype=torch.long)\n",
    "        ))\n",
    "    return data\n",
    "\n",
    "dataset = make_dataset(words, CONTEXT_SIZE)\n",
    "print(f\"生成 {len(dataset)} 个训练样本\")\n",
    "\n",
    "# 输出：生成 13 个训练样本\n",
    "\n",
    "# 查看前5个样本的详细内容\n",
    "for i in range(13):\n",
    "    context, target = dataset[i]\n",
    "    print(f\"样本{i+1}:\")\n",
    "    print(f\"  上下文索引: {context.tolist()}\")\n",
    "    print(f\"  目标索引: {target.item()}\")\n",
    "    print(f\"  对应文本: {[idx_to_word[idx] for idx in context.tolist()]} -> {idx_to_word[target.item()]}\")"
   ]
  },
  {
   "cell_type": "markdown",
   "id": "324d1eca-e9b6-4215-9884-83e237bba5dc",
   "metadata": {},
   "source": [
    "## 4. 模型训练"
   ]
  },
  {
   "cell_type": "code",
   "execution_count": 4,
   "id": "b00173df-508c-45ee-ba3f-0b38110a9235",
   "metadata": {},
   "outputs": [
    {
     "name": "stdout",
     "output_type": "stream",
     "text": [
      "Epoch 0, Loss: 2.4732\n",
      "Epoch 100, Loss: 0.0032\n",
      "Epoch 200, Loss: 0.0006\n",
      "Epoch 300, Loss: 0.0002\n",
      "Epoch 400, Loss: 0.0001\n",
      "Epoch 500, Loss: 0.0000\n",
      "Epoch 600, Loss: 0.0000\n",
      "Epoch 700, Loss: 0.0000\n",
      "Epoch 800, Loss: 0.0000\n",
      "Epoch 900, Loss: 0.0000\n"
     ]
    }
   ],
   "source": [
    "# ## 4. 模型训练\n",
    "# %%\n",
    "# 初始化模型和优化器\n",
    "model = NPLM(vocab_size, EMB_DIM, CONTEXT_SIZE, HIDDEN_DIM)\n",
    "criterion = nn.CrossEntropyLoss()\n",
    "optimizer = optim.Adam(model.parameters(), lr=0.001)\n",
    "\n",
    "# 训练循环\n",
    "losses = []\n",
    "for epoch in range(1000):\n",
    "    total_loss = 0\n",
    "    for context, target in dataset:\n",
    "        # 梯度清零\n",
    "        optimizer.zero_grad()\n",
    "        \n",
    "        # 前向传播\n",
    "        logits = model(context.unsqueeze(0))  # 添加batch维度\n",
    "        \n",
    "        # 计算损失\n",
    "        loss = criterion(logits, target.unsqueeze(0))\n",
    "        \n",
    "        # 反向传播\n",
    "        loss.backward()\n",
    "        \n",
    "        # 参数更新\n",
    "        optimizer.step()\n",
    "        \n",
    "        total_loss += loss.item()\n",
    "    \n",
    "    # 记录损失\n",
    "    losses.append(total_loss/len(dataset))\n",
    "    if epoch % 100 == 0:\n",
    "        print(f\"Epoch {epoch}, Loss: {losses[-1]:.4f}\")"
   ]
  },
  {
   "cell_type": "markdown",
   "id": "63d95788-dc9b-4f0a-bb60-290b081ae876",
   "metadata": {},
   "source": [
    "## 5. 词向量可视化"
   ]
  },
  {
   "cell_type": "code",
   "execution_count": 6,
   "id": "2a2133c1-ec3c-422f-ac8f-e2f6afb8e1f1",
   "metadata": {},
   "outputs": [
    {
     "data": {
      "image/png": "[encoded data removed]",
      "text/plain": [
       "<Figure size 1000x800 with 1 Axes>"
      ]
     },
     "metadata": {},
     "output_type": "display_data"
    }
   ],
   "source": [
    "## 5. 词向量可视化\n",
    "# %%\n",
    "# 提取嵌入权重\n",
    "embeddings = model.embeddings.weight.detach().numpy()\n",
    "\n",
    "# PCA降维\n",
    "pca = PCA(n_components=2)\n",
    "reduced = pca.fit_transform(embeddings)\n",
    "\n",
    "# 绘制散点图\n",
    "plt.figure(figsize=(10,8))\n",
    "for i, word in idx_to_word.items():\n",
    "    plt.scatter(reduced[i,0], reduced[i,1], marker='o')\n",
    "    plt.text(reduced[i,0]+0.02, reduced[i,1]+0.02, word, fontsize=9)\n",
    "\n",
    "plt.title(\"Word Embedding Visualization (PCA)\")\n",
    "plt.xlabel(\"Principal Component 1\")\n",
    "plt.ylabel(\"Principal Component 2\")\n",
    "plt.grid(alpha=0.3)\n",
    "plt.show()"
   ]
  },
  {
   "cell_type": "markdown",
   "id": "73b47a1f-0096-49a2-9c92-71e33898485f",
   "metadata": {},
   "source": [
    "## 6. 预测示例"
   ]
  },
  {
   "cell_type": "code",
   "execution_count": 7,
   "id": "0c2998de-3782-4d6d-941c-bfa815fadada",
   "metadata": {},
   "outputs": [
    {
     "name": "stdout",
     "output_type": "stream",
     "text": [
      "输入上下文: ['the', 'cat', 'sat']\n",
      "1. on: 100.00%\n",
      "2. like: 0.00%\n",
      "3. the: 0.00%\n",
      "输入上下文: ['cats', 'like', 'fish']\n",
      "1. and: 100.00%\n",
      "2. milk: 0.00%\n",
      "3. on: 0.00%\n"
     ]
    }
   ],
   "source": [
    "def predict(context_words, top_k=3):\n",
    "    # 转换输入\n",
    "    context_idx = torch.tensor(\n",
    "        [word_to_idx[w] for w in context_words], \n",
    "        dtype=torch.long\n",
    "    )\n",
    "    \n",
    "    # 前向计算\n",
    "    with torch.no_grad():\n",
    "        logits = model(context_idx.unsqueeze(0))\n",
    "        probs = torch.softmax(logits, dim=1)\n",
    "    \n",
    "    # 获取top_k预测\n",
    "    top_probs, top_indices = torch.topk(probs, top_k)\n",
    "    \n",
    "    # 输出结果\n",
    "    print(f\"输入上下文: {context_words}\")\n",
    "    for i, (prob, idx) in enumerate(zip(top_probs[0], top_indices[0])):\n",
    "        print(f\"{i+1}. {idx_to_word[idx.item()]}: {prob.item():.2%}\")\n",
    "\n",
    "# 测试预测\n",
    "predict([\"the\", \"cat\", \"sat\"])  # 预期预测 \"on\"\n",
    "predict([\"cats\", \"like\", \"fish\"])  # 预期预测 \"and\""
   ]
  },
  {
   "cell_type": "markdown",
   "id": "3df52555-5d27-4be4-b383-175d3adef609",
   "metadata": {},
   "source": [
    "## 7. 扩展分析"
   ]
  },
  {
   "cell_type": "code",
   "execution_count": 9,
   "id": "8e898733-fe77-42d7-ac39-576270f70e45",
   "metadata": {},
   "outputs": [
    {
     "data": {
      "image/png": "[encoded data removed]",
      "text/plain": [
       "<Figure size 640x480 with 1 Axes>"
      ]
     },
     "metadata": {},
     "output_type": "display_data"
    },
    {
     "name": "stdout",
     "output_type": "stream",
     "text": [
      "'cat'与'cats'余弦相似度: -0.15\n",
      "'cat'与'dog'余弦相似度: 0.01\n"
     ]
    }
   ],
   "source": [
    "plt.plot(losses)\n",
    "plt.title(\"Training Loss Curve\")\n",
    "plt.xlabel(\"Epoch\")\n",
    "plt.ylabel(\"Loss\")\n",
    "plt.grid(True)\n",
    "plt.show()\n",
    "\n",
    "# 词向量相似度分析\n",
    "def cosine_similarity(word1, word2):\n",
    "    vec1 = embeddings[word_to_idx[word1]]\n",
    "    vec2 = embeddings[word_to_idx[word2]]\n",
    "    return np.dot(vec1, vec2)/(np.linalg.norm(vec1)*np.linalg.norm(vec2))\n",
    "\n",
    "print(f\"'cat'与'cats'余弦相似度: {cosine_similarity('cat','cats'):.2f}\")\n",
    "print(f\"'cat'与'dog'余弦相似度: {cosine_similarity('cat','dog'):.2f}\")"
   ]
  },
  {
   "cell_type": "code",
   "execution_count": null,
   "id": "83b1f92c-6d3d-47b0-b8b2-008fd6ea444b",
   "metadata": {},
   "outputs": [],
   "source": []
  }
 ],
 "metadata": {
  "kernelspec": {
   "display_name": "Python 3 (ipykernel)",
   "language": "python",
   "name": "python3"
  },
  "language_info": {
   "codemirror_mode": {
    "name": "ipython",
    "version": 3
   },
   "file_extension": ".py",
   "mimetype": "text/x-python",
   "name": "python",
   "nbconvert_exporter": "python",
   "pygments_lexer": "ipython3",
   "version": "3.9.21"
  }
 },
 "nbformat": 4,
 "nbformat_minor": 5
}
